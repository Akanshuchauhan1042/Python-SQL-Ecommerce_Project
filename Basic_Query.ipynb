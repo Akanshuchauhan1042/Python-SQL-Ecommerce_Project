{
 "cells": [
  {
   "cell_type": "code",
   "execution_count": 42,
   "id": "db0f8485-be02-48df-9982-01366ba7ea1a",
   "metadata": {},
   "outputs": [],
   "source": [
    "import pandas as pd\n",
    "import mysql.connector\n",
    "import matplotlib.pyplot as plt\n",
    "import seaborn as sns \n",
    "\n",
    "db = mysql.connector.connect(\n",
    "    host='localhost',\n",
    "    user='root',\n",
    "    password='Ak@10042002',\n",
    "    database='ecommerce'\n",
    ")\n",
    "cur = db.cursor()"
   ]
  },
  {
   "cell_type": "code",
   "execution_count": 157,
   "id": "81c27f04-c211-4d99-b602-227e616ba52f",
   "metadata": {},
   "outputs": [
    {
     "data": {
      "text/html": [
       "<div>\n",
       "<style scoped>\n",
       "    .dataframe tbody tr th:only-of-type {\n",
       "        vertical-align: middle;\n",
       "    }\n",
       "\n",
       "    .dataframe tbody tr th {\n",
       "        vertical-align: top;\n",
       "    }\n",
       "\n",
       "    .dataframe thead th {\n",
       "        text-align: right;\n",
       "    }\n",
       "</style>\n",
       "<table border=\"1\" class=\"dataframe\">\n",
       "  <thead>\n",
       "    <tr style=\"text-align: right;\">\n",
       "      <th></th>\n",
       "      <th>0</th>\n",
       "    </tr>\n",
       "  </thead>\n",
       "  <tbody>\n",
       "    <tr>\n",
       "      <th>0</th>\n",
       "      <td>abadia dos dourados</td>\n",
       "    </tr>\n",
       "    <tr>\n",
       "      <th>1</th>\n",
       "      <td>abadiania</td>\n",
       "    </tr>\n",
       "    <tr>\n",
       "      <th>2</th>\n",
       "      <td>abaete</td>\n",
       "    </tr>\n",
       "    <tr>\n",
       "      <th>3</th>\n",
       "      <td>abaetetuba</td>\n",
       "    </tr>\n",
       "    <tr>\n",
       "      <th>4</th>\n",
       "      <td>abaiara</td>\n",
       "    </tr>\n",
       "  </tbody>\n",
       "</table>\n",
       "</div>"
      ],
      "text/plain": [
       "                     0\n",
       "0  abadia dos dourados\n",
       "1            abadiania\n",
       "2               abaete\n",
       "3           abaetetuba\n",
       "4              abaiara"
      ]
     },
     "execution_count": 157,
     "metadata": {},
     "output_type": "execute_result"
    }
   ],
   "source": [
    "query = \"SELECT DISTINCT customer_city FROM customers ORDER BY customer_city\"\n",
    "cur.execute(query)\n",
    "data = cur.fetchall()\n",
    "df = pd.DataFrame(data)\n",
    "df.head()"
   ]
  },
  {
   "cell_type": "markdown",
   "id": "63b1d7c5-d64e-4560-9046-00e82fd545c0",
   "metadata": {},
   "source": [
    "# List all unique cities where customers are located.\n"
   ]
  },
  {
   "cell_type": "code",
   "execution_count": 145,
   "id": "2fe95773-ed20-4c22-867b-b078e1484105",
   "metadata": {},
   "outputs": [
    {
     "data": {
      "text/plain": [
       "45101"
      ]
     },
     "execution_count": 145,
     "metadata": {},
     "output_type": "execute_result"
    }
   ],
   "source": [
    "query = \"select COUNT(order_purchase_timestamp) from ecommerce.orders WHERE YEAR(order_purchase_timestamp) = 2017;\"\n",
    "cur.execute(query)\n",
    "data = cur.fetchall()\n",
    "data[0][0]"
   ]
  },
  {
   "cell_type": "markdown",
   "id": "0e12f369-b83b-4585-816e-200374edb54c",
   "metadata": {},
   "source": [
    "# Count the number of orders placed in 2017."
   ]
  },
  {
   "cell_type": "code",
   "execution_count": 147,
   "id": "e3172a8d-b071-4b8c-a043-b3258ea541e5",
   "metadata": {},
   "outputs": [
    {
     "data": {
      "text/plain": [
       "45101"
      ]
     },
     "execution_count": 147,
     "metadata": {},
     "output_type": "execute_result"
    }
   ],
   "source": [
    "query = \"select COUNT(order_purchase_timestamp) from orders WHERE YEAR(order_purchase_timestamp) = 2017;\"\n",
    "cur.execute(query)\n",
    "data = cur.fetchall()\n",
    "data[0][0]"
   ]
  },
  {
   "cell_type": "markdown",
   "id": "8b9e5c5e-61ef-4113-98e3-7ac88c308a2d",
   "metadata": {},
   "source": [
    "# Find the total sales per category."
   ]
  },
  {
   "cell_type": "code",
   "execution_count": 84,
   "id": "2504e553-a11a-49ea-ab5b-0426af601abe",
   "metadata": {},
   "outputs": [
    {
     "data": {
      "text/html": [
       "<div>\n",
       "<style scoped>\n",
       "    .dataframe tbody tr th:only-of-type {\n",
       "        vertical-align: middle;\n",
       "    }\n",
       "\n",
       "    .dataframe tbody tr th {\n",
       "        vertical-align: top;\n",
       "    }\n",
       "\n",
       "    .dataframe thead th {\n",
       "        text-align: right;\n",
       "    }\n",
       "</style>\n",
       "<table border=\"1\" class=\"dataframe\">\n",
       "  <thead>\n",
       "    <tr style=\"text-align: right;\">\n",
       "      <th></th>\n",
       "      <th>Category</th>\n",
       "      <th>Sales</th>\n",
       "    </tr>\n",
       "  </thead>\n",
       "  <tbody>\n",
       "    <tr>\n",
       "      <th>0</th>\n",
       "      <td>None</td>\n",
       "      <td>252801.71</td>\n",
       "    </tr>\n",
       "    <tr>\n",
       "      <th>1</th>\n",
       "      <td>Agro Industria e Comercio</td>\n",
       "      <td>118730.61</td>\n",
       "    </tr>\n",
       "    <tr>\n",
       "      <th>2</th>\n",
       "      <td>Art</td>\n",
       "      <td>30992.93</td>\n",
       "    </tr>\n",
       "    <tr>\n",
       "      <th>3</th>\n",
       "      <td>Arts and Crafts</td>\n",
       "      <td>2326.17</td>\n",
       "    </tr>\n",
       "    <tr>\n",
       "      <th>4</th>\n",
       "      <td>audio</td>\n",
       "      <td>60324.62</td>\n",
       "    </tr>\n",
       "    <tr>\n",
       "      <th>...</th>\n",
       "      <td>...</td>\n",
       "      <td>...</td>\n",
       "    </tr>\n",
       "    <tr>\n",
       "      <th>69</th>\n",
       "      <td>stationary store</td>\n",
       "      <td>317440.07</td>\n",
       "    </tr>\n",
       "    <tr>\n",
       "      <th>70</th>\n",
       "      <td>technical books</td>\n",
       "      <td>24915.44</td>\n",
       "    </tr>\n",
       "    <tr>\n",
       "      <th>71</th>\n",
       "      <td>telephony</td>\n",
       "      <td>486882.05</td>\n",
       "    </tr>\n",
       "    <tr>\n",
       "      <th>72</th>\n",
       "      <td>toys</td>\n",
       "      <td>619037.69</td>\n",
       "    </tr>\n",
       "    <tr>\n",
       "      <th>73</th>\n",
       "      <td>Watches present</td>\n",
       "      <td>1429216.68</td>\n",
       "    </tr>\n",
       "  </tbody>\n",
       "</table>\n",
       "<p>74 rows × 2 columns</p>\n",
       "</div>"
      ],
      "text/plain": [
       "                     Category       Sales\n",
       "0                        None   252801.71\n",
       "1   Agro Industria e Comercio   118730.61\n",
       "2                         Art    30992.93\n",
       "3             Arts and Crafts     2326.17\n",
       "4                       audio    60324.62\n",
       "..                        ...         ...\n",
       "69           stationary store   317440.07\n",
       "70            technical books    24915.44\n",
       "71                  telephony   486882.05\n",
       "72                       toys   619037.69\n",
       "73            Watches present  1429216.68\n",
       "\n",
       "[74 rows x 2 columns]"
      ]
     },
     "execution_count": 84,
     "metadata": {},
     "output_type": "execute_result"
    }
   ],
   "source": [
    "query = \"\"\"SELECT products.product_category as Category, ROUND(SUM(payments.payment_value),2) as Sales FROM products JOIN order_items\n",
    "ON products.product_id = order_items.product_id\n",
    "join payments\n",
    "ON payments.order_id = order_items.order_id\n",
    "GROUP by Category\n",
    "ORDER BY Category\"\"\"\n",
    "cur.execute(query)\n",
    "data = cur.fetchall()\n",
    "df = pd.DataFrame(data , columns = [\"Category\", \"Sales\"])\n",
    "df"
   ]
  },
  {
   "cell_type": "markdown",
   "id": "3cd62e16-9e5b-4e62-9af1-c711aa76202a",
   "metadata": {},
   "source": [
    "#  Calculate the percentage of orders that were paid in installments."
   ]
  },
  {
   "cell_type": "code",
   "execution_count": 100,
   "id": "c17bea82-516a-4382-bc90-33edad72aaff",
   "metadata": {},
   "outputs": [
    {
     "data": {
      "text/plain": [
       "('percentage of orders that were paid in installments = ', Decimal('99.9981'))"
      ]
     },
     "execution_count": 100,
     "metadata": {},
     "output_type": "execute_result"
    }
   ],
   "source": [
    "query = \"\"\" SELECT (sum(case when payment_installments >= 1 then 1 else 0 end))/count(*)*100  FROM ecommerce.payments\"\"\"\n",
    "cur.execute(query)\n",
    "data = cur.fetchall()\n",
    "\"percentage of orders that were paid in installments = \", data[0][0]"
   ]
  },
  {
   "cell_type": "markdown",
   "id": "6b97ff9f-685e-451c-b6eb-f216e0a27798",
   "metadata": {},
   "source": [
    "# count the number of customers from each state. "
   ]
  },
  {
   "cell_type": "code",
   "execution_count": 169,
   "id": "32c6586f-1c76-4237-a618-0c8b5fd6e455",
   "metadata": {},
   "outputs": [
    {
     "data": {
      "text/plain": [
       "<function matplotlib.pyplot.show(close=None, block=None)>"
      ]
     },
     "execution_count": 169,
     "metadata": {},
     "output_type": "execute_result"
    },
    {
     "data": {
      "image/png": "[encoded data removed]",
      "text/plain": [
       "<Figure size 1200x500 with 1 Axes>"
      ]
     },
     "metadata": {},
     "output_type": "display_data"
    }
   ],
   "source": [
    "query = \"\"\" SELECT customer_state, COUNT(customer_id) FROM customers group by customer_state\n",
    "order by customer_state\"\"\"\n",
    "cur.execute(query)\n",
    "data = cur.fetchall()\n",
    "df = pd.DataFrame(data,columns =[\"state\" , \"customer_count\"])\n",
    "df = df.sort_values(by = \"customer_count\" , ascending = False)\n",
    "\n",
    "plt.figure(figsize = (12,5))\n",
    "plt.bar(df[\"state\"] , df[\"customer_count\"])\n",
    "plt.xticks(rotation = 90)\n",
    "plt.xlabel(\"state\")\n",
    "plt.ylabel(\"customer_count\")\n",
    "plt.title(\"Count of Customer by State\")\n",
    "plt.show"
   ]
  },
  {
   "cell_type": "code",
   "execution_count": null,
   "id": "c347509c-66ba-4c98-8652-f894bf0c7850",
   "metadata": {},
   "outputs": [],
   "source": []
  }
 ],
 "metadata": {
  "kernelspec": {
   "display_name": "Python 3 (ipykernel)",
   "language": "python",
   "name": "python3"
  },
  "language_info": {
   "codemirror_mode": {
    "name": "ipython",
    "version": 3
   },
   "file_extension": ".py",
   "mimetype": "text/x-python",
   "name": "python",
   "nbconvert_exporter": "python",
   "pygments_lexer": "ipython3",
   "version": "3.11.7"
  }
 },
 "nbformat": 4,
 "nbformat_minor": 5
}
